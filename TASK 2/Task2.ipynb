{
 "cells": [
  {
   "cell_type": "code",
   "execution_count": null,
   "id": "3c4255c4",
   "metadata": {},
   "outputs": [],
   "source": [
    "#QUESTION 1 \n",
    "\n",
    "import pandas as pd\n",
    "matches_df = pd.read_csv(\"C:\\\\Users\\\\nikhi\\\\Downloads\\\\matches.csv\")\n",
    "matches_2008 = matches_df[matches_df['season'] == 2008]\n",
    "number = matches_2008.shape[0]\n",
    "print(f\"The total number of matches conducted in 2008 is: \\n {number}\")"
   ]
  },
  {
   "cell_type": "code",
   "execution_count": null,
   "id": "fa990bb6",
   "metadata": {},
   "outputs": [],
   "source": [
    "#QUESTION 2 \n",
    "city_counts = matches_df['city'].value_counts()\n",
    "max_matches_city = city_counts.idxmax()\n",
    "max_count = city_counts.max()\n",
    "min_matches_city = city_counts.idxmin()\n",
    "min_count = city_counts.min()\n",
    "print(f\"City with the maximum number of matches: {max_matches_city} ({max_count} matches)\")\n",
    "print(f\"City with the minimum number of matches: {min_matches_city} ({min_count} matches)\")\n",
    "\n"
   ]
  },
  {
   "cell_type": "code",
   "execution_count": null,
   "id": "7f2aa256",
   "metadata": {},
   "outputs": [],
   "source": [
    "#Question 3\n",
    "print(f\"Matches per city: ({city_counts} matches)\")\n"
   ]
  },
  {
   "cell_type": "code",
   "execution_count": null,
   "id": "1f586533",
   "metadata": {},
   "outputs": [],
   "source": [
    "#Question 4\n",
    "toss_decision_tally = pd.crosstab(index=matches_df['toss_winner'], columns=matches_df['toss_decision'])\n",
    "print(\"Toss Decision Tally for Each Team:\")\n",
    "print(toss_decision_tally)\n"
   ]
  },
  {
   "cell_type": "code",
   "execution_count": null,
   "id": "27857ab4",
   "metadata": {},
   "outputs": [],
   "source": [
    "#QUestion 5\n",
    "tied_match=matches_df[matches_df['result']=='tie']\n",
    "tied_no=tied_match.shape[0]\n",
    "normal_matches=matches_df[matches_df['result']=='normal']\n",
    "normal_no=normal_matches.shape[0]\n",
    "print(f'The number of tied matches are: {tied_no}')\n",
    "print(f'The number of normal matches are: {normal_no}')\n",
    "\n"
   ]
  },
  {
   "cell_type": "code",
   "execution_count": null,
   "id": "15d09017",
   "metadata": {},
   "outputs": [],
   "source": [
    "#QUESTION 6\n",
    "tied_match=matches_df[matches_df['result']=='tie']\n",
    "print(\"The following matches tied:\")\n",
    "for index, row in tied_match.iterrows():\n",
    "    print(f\"- {row['team1']} vs {row['team2']} \\t\\t on {row['date']}\")\n",
    "\n"
   ]
  },
  {
   "cell_type": "code",
   "execution_count": null,
   "id": "a3291ff5",
   "metadata": {},
   "outputs": [],
   "source": [
    "#QUestion 7\n",
    "\n",
    "run123 = matches_df[matches_df['win_by_runs'] > 0]\n",
    "run=run123['win_by_runs']\n",
    "runs_max = run.idxmax()\n",
    "runs_max_val=matches_df.loc[runs_max]\n",
    "print(f\"{runs_max_val['team1']} won over {runs_max_val['team2']} by {runs_max_val['win_by_runs']} runs\")\n",
    "\n",
    "\n",
    "runs_min=run.idxmin() \n",
    "runs_min_val=matches_df.loc[runs_min]\n",
    "print(f\"{runs_min_val['team1']} won over {runs_min_val['team2']} by {runs_min_val['win_by_runs']} runs\") \n"
   ]
  },
  {
   "cell_type": "code",
   "execution_count": null,
   "id": "9e85887a",
   "metadata": {},
   "outputs": [],
   "source": [
    "#Question 8\n",
    "standard_dev=run.std()\n",
    "mean_=run.mean()\n",
    "median_=run.median()\n",
    "print(f'The mean of Win by runs is {mean_}')\n",
    "print(f'The Standard Deviation of Win by runs is {standard_dev}')\n",
    "print(f'The Median of Win by runs is {median_}')\n"
   ]
  },
  {
   "cell_type": "code",
   "execution_count": null,
   "id": "481f0a68",
   "metadata": {},
   "outputs": [],
   "source": [
    "#Question 9\n",
    "print(f\"{runs_max_val['team1']} won over {runs_max_val['team2']} by highest runs at {runs_max_val['venue']} Stadium \")\n",
    "print(f\"{runs_min_val['team1']} won over {runs_min_val['team2']} by minimun runs at {runs_min_val['venue']} Stadium\")\n",
    " "
   ]
  },
  {
   "cell_type": "code",
   "execution_count": null,
   "id": "2856413c",
   "metadata": {},
   "outputs": [],
   "source": [
    "#Question 10  \n",
    "MOM = matches_df['player_of_match'].value_counts()\n",
    "for j, i in MOM.items():\n",
    "    if i>3:\n",
    "        print(j,i)\n",
    "    "
   ]
  },
  {
   "cell_type": "code",
   "execution_count": null,
   "id": "8ee3e4e6",
   "metadata": {},
   "outputs": [],
   "source": [
    "#Question 11\n",
    "delhivery_df=pd.read_csv(\"C:\\\\Users\\\\nikhi\\\\Downloads\\\\deliveries.csv\")\n",
    "sixes=delhivery_df[delhivery_df['batsman_runs']==6]\n",
    "sixes_over=sixes['over']\n",
    "sixes_ball=sixes['ball']\n",
    "print(sixes_over,\"\\n\\n\",sixes_ball)  #use one data set and then use indexes to print \n",
    "\n"
   ]
  },
  {
   "cell_type": "code",
   "execution_count": null,
   "id": "1663c1cf",
   "metadata": {},
   "outputs": [],
   "source": [
    "#Q12 \n",
    "total_runs_per_match = delhivery_df.groupby('match_id')['total_runs'].sum().reset_index()\n",
    "match_venue_data = pd.merge(total_runs_per_match, matches_df[['id', 'venue']], left_on='match_id', right_on='id')\n",
    "avg_runs_per_venue = match_venue_data.groupby('venue')['total_runs'].mean().reset_index()\n",
    "avg_runs_per_venue_sorted = avg_runs_per_venue.sort_values(by='total_runs', ascending=False)\n",
    "print(\"Average runs scored per match in each venue:\")\n",
    "print(avg_runs_per_venue_sorted.to_string(index=False))\n",
    "\n",
    "  "
   ]
  },
  {
   "cell_type": "code",
   "execution_count": null,
   "id": "95ee0612",
   "metadata": {},
   "outputs": [],
   "source": [
    "#Question 13\n",
    "\n",
    "umpire1 = matches_df['umpire1']\n",
    "umpire2 = matches_df['umpire2']\n",
    "umpire3 = matches_df['umpire3']\n",
    "all_umpires = pd.concat([umpire1, umpire2, umpire3]).dropna()\n",
    "umpire_counts = all_umpires.value_counts()\n",
    "max_count = umpire_counts.max()\n",
    "top_umpires = umpire_counts[umpire_counts == max_count]\n",
    "print(\"Umpire with the maximum number of matches \",(top_umpires))"
   ]
  },
  {
   "cell_type": "code",
   "execution_count": null,
   "id": "700273b7",
   "metadata": {},
   "outputs": [],
   "source": [
    "#Question 14\n",
    "matches_per_season = matches_df['season'].value_counts()\n",
    "print(matches_per_season)"
   ]
  },
  {
   "cell_type": "code",
   "execution_count": null,
   "id": "b5ec49e9",
   "metadata": {},
   "outputs": [],
   "source": [
    "#Question 15\n",
    "season_data = pd.merge(delhivery_df, matches_df[['id', 'season']], left_on='match_id', right_on='id')\n",
    "seasonal_runs = season_data.groupby('season')['total_runs'].sum().reset_index()\n",
    "print(\"Total runs scored in each season:\")\n",
    "print(seasonal_runs.to_string(index=False))\n",
    "\n",
    "\n"
   ]
  },
  {
   "cell_type": "code",
   "execution_count": null,
   "id": "106a9146",
   "metadata": {},
   "outputs": [],
   "source": [
    "#Question 16\n",
    "unique_batsmen = delhivery_df['batsman'].unique()\n",
    "runs_scored = {}\n",
    "for batsman in unique_batsmen:\n",
    "    batsman_df = delhivery_df[delhivery_df['batsman'] == batsman]\n",
    "    total_runs = batsman_df['batsman_runs'].sum()\n",
    "    runs_scored[batsman] = total_runs\n",
    "batsman_runs_series = pd.Series(runs_scored)\n",
    "top_10_batsmen = batsman_runs_series.sort_values(ascending=False).head(10)\n",
    "print(\"Top 10 Batsmen by Total Runs Scored:\")\n",
    "print(top_10_batsmen)"
   ]
  },
  {
   "cell_type": "code",
   "execution_count": null,
   "id": "dd1bad40",
   "metadata": {},
   "outputs": [],
   "source": [
    "#Question 17\n",
    "\n",
    "non_bowler_wickets = ['run out', 'retired hurt', 'obstructing the field']\n",
    "wickets_df = delhivery_df[delhivery_df['player_dismissed'].notna()]\n",
    "wickets_df = wickets_df[~wickets_df['dismissal_kind'].isin(non_bowler_wickets)]\n",
    "top_bowlers = wickets_df['bowler'].value_counts().reset_index()\n",
    "top_bowlers.columns = ['bowler', 'wickets']\n",
    "print(\"Top 10 Bowlers by Wickets Taken:\")\n",
    "print(top_bowlers.head(10).to_string(index=False))\n",
    "\n"
   ]
  },
  {
   "cell_type": "code",
   "execution_count": null,
   "id": "be0b99dc",
   "metadata": {},
   "outputs": [],
   "source": [
    "#Question 18\n",
    "\n",
    "def calculate_average(row):\n",
    "    if row['dismissals'] > 0:\n",
    "        return row['total_runs'] / row['dismissals']\n",
    "    else:\n",
    "        # If a player has 0 dismissals, their average is their total runs\n",
    "        return row['total_runs']\n",
    "    \n",
    "total_runs = delhivery_df.groupby('batsman')['batsman_runs'].sum().reset_index()\n",
    "total_runs.columns = ['batsman', 'total_runs']\n",
    "dismissals = delhivery_df[delhivery_df['player_dismissed'].notna()]\n",
    "total_dismissals = dismissals['player_dismissed'].value_counts().reset_index()\n",
    "total_dismissals.columns = ['batsman', 'dismissals']\n",
    "\n",
    "player_stats = pd.merge(total_runs, total_dismissals, on='batsman', how='left')\n",
    "player_stats['dismissals'] = player_stats['dismissals'].fillna(0)\n",
    "\n",
    "qualified_players = player_stats[player_stats['total_runs'] >= 500].copy()\n",
    "\n",
    "# Use the named function with .apply()\n",
    "qualified_players['average'] = qualified_players.apply(calculate_average, axis=1)\n",
    "\n",
    "top_10_average = qualified_players.sort_values(by='average', ascending=False).head(10)\n",
    "\n",
    "print(\"Top 10 Batsmen by Batting Average:\")\n",
    "print(top_10_average.to_string(index=False))\n",
    "\n",
    "\n",
    "\n"
   ]
  },
  {
   "cell_type": "code",
   "execution_count": null,
   "id": "2e3d68a7",
   "metadata": {},
   "outputs": [],
   "source": [
    "#Question 19\n",
    "import matplotlib.pyplot as plt\n",
    "toss_decision_by_season = pd.crosstab(matches_df['season'], matches_df['toss_decision'])\n",
    "toss_decision_by_season.plot(kind='line', stacked=True, figsize=(8, 5))\n",
    "plt.title('Toss Decisions Across Seasons', fontsize=16)\n",
    "plt.xlabel('Season', fontsize=12)\n",
    "plt.ylabel('Number of Matches', fontsize=12)\n",
    "plt.xticks(rotation=45)\n",
    "plt.legend(title='Toss Decision')\n",
    "plt.tight_layout()\n",
    "plt.show()"
   ]
  },
  {
   "cell_type": "code",
   "execution_count": null,
   "id": "a87ba06b",
   "metadata": {},
   "outputs": [],
   "source": [
    "#QUESTION 20\n",
    "total_matches = pd.concat([matches_df['team1'], matches_df['team2']]).value_counts().reset_index()\n",
    "total_matches.columns = ['team', 'total_matches']\n",
    "total_wins = matches_df['winner'].value_counts().reset_index()\n",
    "total_wins.columns = ['team', 'wins']\n",
    "team_stats = pd.merge(total_matches, total_wins, on='team')\n",
    "team_stats['win_rate'] = (team_stats['wins'] / team_stats['total_matches']) * 100\n",
    "team_stats = team_stats.sort_values(by='wins', ascending=False)\n",
    "fig, ax1 = plt.subplots(figsize=(14, 8))\n",
    "ax1.bar(team_stats['team'], team_stats['total_matches'], color='lightblue', label='Total Matches')\n",
    "ax1.bar(team_stats['team'], team_stats['wins'], color='dodgerblue', label='Winning Matches')\n",
    "ax1.set_xlabel('Team', fontsize=12)\n",
    "ax1.set_ylabel('Number of Matches', fontsize=12, color='dodgerblue')\n",
    "ax1.tick_params(axis='y', labelcolor='dodgerblue')\n",
    "plt.xticks(rotation=90)\n",
    "ax2 = ax1.twinx()\n",
    "ax2.plot(team_stats['team'], team_stats['win_rate'], color='red', marker='o', linestyle='-', linewidth=2, label='Win Rate (%)')\n",
    "ax2.set_ylabel('Win Rate (%)', fontsize=12, color='red')\n",
    "ax2.tick_params(axis='y', labelcolor='red')\n",
    "ax2.set_ylim(0, 100)\n",
    "plt.title('Total Matches vs. Winning Matches vs. Win Rate for All Teams', fontsize=16)\n",
    "fig.tight_layout()\n",
    "lines, labels = ax1.get_legend_handles_labels()\n",
    "lines2, labels2 = ax2.get_legend_handles_labels()\n",
    "ax2.legend(lines + lines2, labels + labels2, loc='upper right')\n",
    "plt.grid(axis='y', linestyle='--', alpha=0.7)\n",
    "plt.show()\n",
    "\n"
   ]
  },
  {
   "cell_type": "code",
   "execution_count": null,
   "id": "e373533a",
   "metadata": {},
   "outputs": [],
   "source": [
    "#QUESTION 21\n",
    "\n",
    "win_counts = matches_df['winner'].value_counts()\n",
    "plt.figure(figsize=(9, 5))\n",
    "win_counts.plot(kind='bar', color='darkblue')\n",
    "plt.title('Distribution of Match Wins by Team', fontsize=16)\n",
    "plt.xlabel('Team', fontsize=12)\n",
    "plt.ylabel('Number of Wins', fontsize=12)\n",
    "plt.xticks(rotation=45, ha='right') \n",
    "plt.tight_layout() \n",
    "plt.show()\n"
   ]
  },
  {
   "cell_type": "code",
   "execution_count": null,
   "id": "44558030",
   "metadata": {},
   "outputs": [],
   "source": [
    "#QUESTION 22\n",
    "\n",
    "toss_outcomes = pd.crosstab(matches_df['toss_winner'], matches_df['toss_decision'])\n",
    "toss_outcomes.plot(kind='bar', stacked=True, figsize=(8, 5))\n",
    "plt.title('Toss Outcomes by Team', fontsize=16)\n",
    "plt.xlabel('Team', fontsize=12)\n",
    "plt.ylabel('Number of Toss Wins', fontsize=12)\n",
    "plt.xticks(rotation=45, ha='right')\n",
    "plt.legend(title='Toss Decision')\n",
    "plt.tight_layout()\n",
    "print(\"Generating plot...\")\n",
    "plt.show()"
   ]
  },
  {
   "cell_type": "code",
   "execution_count": null,
   "id": "cd36b72b",
   "metadata": {},
   "outputs": [],
   "source": [
    "#QUESTION 23\n",
    "\n",
    "top_5_winners = matches_df['winner'].value_counts().head(5)\n",
    "top_5_winners.plot(kind='bar', color='darkblue',figsize=(9, 5))\n",
    "plt.title('Top 5 Teams with the Most Wins', fontsize=16)\n",
    "plt.xlabel('Team', fontsize=12)\n",
    "plt.ylabel('Number of Wins', fontsize=12)\n",
    "plt.xticks(rotation=45, ha='right')\n",
    "plt.tight_layout()"
   ]
  }
 ],
 "metadata": {
  "kernelspec": {
   "display_name": "myenv",
   "language": "python",
   "name": "python3"
  },
  "language_info": {
   "codemirror_mode": {
    "name": "ipython",
    "version": 3
   },
   "file_extension": ".py",
   "mimetype": "text/x-python",
   "name": "python",
   "nbconvert_exporter": "python",
   "pygments_lexer": "ipython3",
   "version": "3.11.9"
  }
 },
 "nbformat": 4,
 "nbformat_minor": 5
}
